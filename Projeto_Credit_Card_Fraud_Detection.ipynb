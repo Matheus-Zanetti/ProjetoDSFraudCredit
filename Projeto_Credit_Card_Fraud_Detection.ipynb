{
 "cells": [
  {
   "cell_type": "markdown",
   "metadata": {
    "id": "N34fTPozhUjC"
   },
   "source": [
    "#Projeto Data Science 1: Detecção de Fraudes com Cartão de Crédito"
   ]
  },
  {
   "cell_type": "markdown",
   "metadata": {
    "id": "-L6gV_8yhfuc"
   },
   "source": [
    "O conjunto de dados contém transações feitas por cartões de crédito em setembro de 2013 por titulares de cartões europeus.\n",
    "\n",
    "Este conjunto de dados apresenta transações que ocorreram em dois dias, **onde temos 492 fraudes em 284.807 transações**. O conjunto de dados é altamente desequilibrado, a **classe positiva (fraudes) é responsável por 0,172% de todas as transações**.\n",
    "\n",
    "Ele contém apenas variáveis ​​de entrada numéricas que são o resultado de uma transformação PCA. Infelizmente, **devido a questões de confidencialidade, não podemos fornecer os recursos originais e mais informações básicas sobre os dados**. Os recursos V1, V2,… V28 são os componentes principais obtidos com o PCA, os únicos recursos que não foram transformados com o PCA são 'Tempo' e 'Quantidade'. O recurso 'Tempo' contém os segundos decorridos entre cada transação e a primeira transação no conjunto de dados. O recurso 'Amount' é o **Amount da transação**, este recurso pode ser usado como exemplo de aprendizagem dependente de custos. O recurso 'Classe' é a variável de resposta e assume o valor 1 em caso de fraude e 0 em caso contrário.\n",
    "\n",
    "Dada a razão de desequilíbrio de classe, recomendamos medir a precisão usando a área sob a curva de recuperação de precisão (AUPRC). A precisão da matriz de confusão não é significativa para a classificação não balanceada.\n",
    "\n",
    "Fonte:https://www.kaggle.com/mlg-ulb/creditcardfraud?select=creditcard.csv"
   ]
  },
  {
   "cell_type": "markdown",
   "metadata": {
    "id": "6nODBDd-iqtQ"
   },
   "source": [
    "## Bibliotecas e Dados"
   ]
  },
  {
   "cell_type": "code",
   "execution_count": null,
   "metadata": {
    "id": "kir2xnhfjF0V"
   },
   "outputs": [],
   "source": [
    "#Bibliotecas básicas\n",
    "import pandas as pd\n",
    "import numpy as np\n",
    "import matplotlib.pyplot as plt\n",
    "import seaborn as sns"
   ]
  },
  {
   "cell_type": "markdown",
   "metadata": {
    "id": "dOEg1oHNiywZ"
   },
   "source": [
    "## Tratamento dos dados"
   ]
  },
  {
   "cell_type": "code",
   "execution_count": null,
   "metadata": {
    "id": "-YUYXdWij_R4"
   },
   "outputs": [],
   "source": [
    "df = pd.read_csv('/content/drive/MyDrive/Projetos python/Projeto 1: Credit Card Fraud Detection/creditcard.csv')\n",
    "\n",
    "\n",
    "#Amount é o valor transacionado"
   ]
  },
  {
   "cell_type": "code",
   "execution_count": null,
   "metadata": {
    "colab": {
     "base_uri": "https://localhost:8080/"
    },
    "id": "YkrpbQobi3Dd",
    "outputId": "7d9e266c-81c2-4596-f69f-58ea6f4e37a4"
   },
   "outputs": [
    {
     "name": "stdout",
     "output_type": "stream",
     "text": [
      "<class 'pandas.core.frame.DataFrame'>\n",
      "RangeIndex: 284807 entries, 0 to 284806\n",
      "Data columns (total 31 columns):\n",
      " #   Column  Non-Null Count   Dtype  \n",
      "---  ------  --------------   -----  \n",
      " 0   Time    284807 non-null  float64\n",
      " 1   V1      284807 non-null  float64\n",
      " 2   V2      284807 non-null  float64\n",
      " 3   V3      284807 non-null  float64\n",
      " 4   V4      284807 non-null  float64\n",
      " 5   V5      284807 non-null  float64\n",
      " 6   V6      284807 non-null  float64\n",
      " 7   V7      284807 non-null  float64\n",
      " 8   V8      284807 non-null  float64\n",
      " 9   V9      284807 non-null  float64\n",
      " 10  V10     284807 non-null  float64\n",
      " 11  V11     284807 non-null  float64\n",
      " 12  V12     284807 non-null  float64\n",
      " 13  V13     284807 non-null  float64\n",
      " 14  V14     284807 non-null  float64\n",
      " 15  V15     284807 non-null  float64\n",
      " 16  V16     284807 non-null  float64\n",
      " 17  V17     284807 non-null  float64\n",
      " 18  V18     284807 non-null  float64\n",
      " 19  V19     284807 non-null  float64\n",
      " 20  V20     284807 non-null  float64\n",
      " 21  V21     284807 non-null  float64\n",
      " 22  V22     284807 non-null  float64\n",
      " 23  V23     284807 non-null  float64\n",
      " 24  V24     284807 non-null  float64\n",
      " 25  V25     284807 non-null  float64\n",
      " 26  V26     284807 non-null  float64\n",
      " 27  V27     284807 non-null  float64\n",
      " 28  V28     284807 non-null  float64\n",
      " 29  Amount  284807 non-null  float64\n",
      " 30  Class   284807 non-null  int64  \n",
      "dtypes: float64(30), int64(1)\n",
      "memory usage: 67.4 MB\n"
     ]
    }
   ],
   "source": [
    "df.info()"
   ]
  },
  {
   "cell_type": "code",
   "execution_count": null,
   "metadata": {
    "colab": {
     "base_uri": "https://localhost:8080/"
    },
    "id": "Fe97flIWjKdw",
    "outputId": "805bd61b-3206-4989-b010-9c1e97da4346"
   },
   "outputs": [
    {
     "data": {
      "text/html": [
       "<div>\n",
       "<style scoped>\n",
       "    .dataframe tbody tr th:only-of-type {\n",
       "        vertical-align: middle;\n",
       "    }\n",
       "\n",
       "    .dataframe tbody tr th {\n",
       "        vertical-align: top;\n",
       "    }\n",
       "\n",
       "    .dataframe thead th {\n",
       "        text-align: right;\n",
       "    }\n",
       "</style>\n",
       "<table border=\"1\" class=\"dataframe\">\n",
       "  <thead>\n",
       "    <tr style=\"text-align: right;\">\n",
       "      <th></th>\n",
       "      <th>Time</th>\n",
       "      <th>V1</th>\n",
       "      <th>V2</th>\n",
       "      <th>V3</th>\n",
       "      <th>V4</th>\n",
       "      <th>V5</th>\n",
       "      <th>V6</th>\n",
       "      <th>V7</th>\n",
       "      <th>V8</th>\n",
       "      <th>V9</th>\n",
       "      <th>V10</th>\n",
       "      <th>V11</th>\n",
       "      <th>V12</th>\n",
       "      <th>V13</th>\n",
       "      <th>V14</th>\n",
       "      <th>V15</th>\n",
       "      <th>V16</th>\n",
       "      <th>V17</th>\n",
       "      <th>V18</th>\n",
       "      <th>V19</th>\n",
       "      <th>V20</th>\n",
       "      <th>V21</th>\n",
       "      <th>V22</th>\n",
       "      <th>V23</th>\n",
       "      <th>V24</th>\n",
       "      <th>V25</th>\n",
       "      <th>V26</th>\n",
       "      <th>V27</th>\n",
       "      <th>V28</th>\n",
       "      <th>Amount</th>\n",
       "      <th>Class</th>\n",
       "    </tr>\n",
       "  </thead>\n",
       "  <tbody>\n",
       "    <tr>\n",
       "      <th>0</th>\n",
       "      <td>0.0</td>\n",
       "      <td>-1.359807</td>\n",
       "      <td>-0.072781</td>\n",
       "      <td>2.536347</td>\n",
       "      <td>1.378155</td>\n",
       "      <td>-0.338321</td>\n",
       "      <td>0.462388</td>\n",
       "      <td>0.239599</td>\n",
       "      <td>0.098698</td>\n",
       "      <td>0.363787</td>\n",
       "      <td>0.090794</td>\n",
       "      <td>-0.551600</td>\n",
       "      <td>-0.617801</td>\n",
       "      <td>-0.991390</td>\n",
       "      <td>-0.311169</td>\n",
       "      <td>1.468177</td>\n",
       "      <td>-0.470401</td>\n",
       "      <td>0.207971</td>\n",
       "      <td>0.025791</td>\n",
       "      <td>0.403993</td>\n",
       "      <td>0.251412</td>\n",
       "      <td>-0.018307</td>\n",
       "      <td>0.277838</td>\n",
       "      <td>-0.110474</td>\n",
       "      <td>0.066928</td>\n",
       "      <td>0.128539</td>\n",
       "      <td>-0.189115</td>\n",
       "      <td>0.133558</td>\n",
       "      <td>-0.021053</td>\n",
       "      <td>149.62</td>\n",
       "      <td>0</td>\n",
       "    </tr>\n",
       "    <tr>\n",
       "      <th>1</th>\n",
       "      <td>0.0</td>\n",
       "      <td>1.191857</td>\n",
       "      <td>0.266151</td>\n",
       "      <td>0.166480</td>\n",
       "      <td>0.448154</td>\n",
       "      <td>0.060018</td>\n",
       "      <td>-0.082361</td>\n",
       "      <td>-0.078803</td>\n",
       "      <td>0.085102</td>\n",
       "      <td>-0.255425</td>\n",
       "      <td>-0.166974</td>\n",
       "      <td>1.612727</td>\n",
       "      <td>1.065235</td>\n",
       "      <td>0.489095</td>\n",
       "      <td>-0.143772</td>\n",
       "      <td>0.635558</td>\n",
       "      <td>0.463917</td>\n",
       "      <td>-0.114805</td>\n",
       "      <td>-0.183361</td>\n",
       "      <td>-0.145783</td>\n",
       "      <td>-0.069083</td>\n",
       "      <td>-0.225775</td>\n",
       "      <td>-0.638672</td>\n",
       "      <td>0.101288</td>\n",
       "      <td>-0.339846</td>\n",
       "      <td>0.167170</td>\n",
       "      <td>0.125895</td>\n",
       "      <td>-0.008983</td>\n",
       "      <td>0.014724</td>\n",
       "      <td>2.69</td>\n",
       "      <td>0</td>\n",
       "    </tr>\n",
       "    <tr>\n",
       "      <th>2</th>\n",
       "      <td>1.0</td>\n",
       "      <td>-1.358354</td>\n",
       "      <td>-1.340163</td>\n",
       "      <td>1.773209</td>\n",
       "      <td>0.379780</td>\n",
       "      <td>-0.503198</td>\n",
       "      <td>1.800499</td>\n",
       "      <td>0.791461</td>\n",
       "      <td>0.247676</td>\n",
       "      <td>-1.514654</td>\n",
       "      <td>0.207643</td>\n",
       "      <td>0.624501</td>\n",
       "      <td>0.066084</td>\n",
       "      <td>0.717293</td>\n",
       "      <td>-0.165946</td>\n",
       "      <td>2.345865</td>\n",
       "      <td>-2.890083</td>\n",
       "      <td>1.109969</td>\n",
       "      <td>-0.121359</td>\n",
       "      <td>-2.261857</td>\n",
       "      <td>0.524980</td>\n",
       "      <td>0.247998</td>\n",
       "      <td>0.771679</td>\n",
       "      <td>0.909412</td>\n",
       "      <td>-0.689281</td>\n",
       "      <td>-0.327642</td>\n",
       "      <td>-0.139097</td>\n",
       "      <td>-0.055353</td>\n",
       "      <td>-0.059752</td>\n",
       "      <td>378.66</td>\n",
       "      <td>0</td>\n",
       "    </tr>\n",
       "    <tr>\n",
       "      <th>3</th>\n",
       "      <td>1.0</td>\n",
       "      <td>-0.966272</td>\n",
       "      <td>-0.185226</td>\n",
       "      <td>1.792993</td>\n",
       "      <td>-0.863291</td>\n",
       "      <td>-0.010309</td>\n",
       "      <td>1.247203</td>\n",
       "      <td>0.237609</td>\n",
       "      <td>0.377436</td>\n",
       "      <td>-1.387024</td>\n",
       "      <td>-0.054952</td>\n",
       "      <td>-0.226487</td>\n",
       "      <td>0.178228</td>\n",
       "      <td>0.507757</td>\n",
       "      <td>-0.287924</td>\n",
       "      <td>-0.631418</td>\n",
       "      <td>-1.059647</td>\n",
       "      <td>-0.684093</td>\n",
       "      <td>1.965775</td>\n",
       "      <td>-1.232622</td>\n",
       "      <td>-0.208038</td>\n",
       "      <td>-0.108300</td>\n",
       "      <td>0.005274</td>\n",
       "      <td>-0.190321</td>\n",
       "      <td>-1.175575</td>\n",
       "      <td>0.647376</td>\n",
       "      <td>-0.221929</td>\n",
       "      <td>0.062723</td>\n",
       "      <td>0.061458</td>\n",
       "      <td>123.50</td>\n",
       "      <td>0</td>\n",
       "    </tr>\n",
       "    <tr>\n",
       "      <th>4</th>\n",
       "      <td>2.0</td>\n",
       "      <td>-1.158233</td>\n",
       "      <td>0.877737</td>\n",
       "      <td>1.548718</td>\n",
       "      <td>0.403034</td>\n",
       "      <td>-0.407193</td>\n",
       "      <td>0.095921</td>\n",
       "      <td>0.592941</td>\n",
       "      <td>-0.270533</td>\n",
       "      <td>0.817739</td>\n",
       "      <td>0.753074</td>\n",
       "      <td>-0.822843</td>\n",
       "      <td>0.538196</td>\n",
       "      <td>1.345852</td>\n",
       "      <td>-1.119670</td>\n",
       "      <td>0.175121</td>\n",
       "      <td>-0.451449</td>\n",
       "      <td>-0.237033</td>\n",
       "      <td>-0.038195</td>\n",
       "      <td>0.803487</td>\n",
       "      <td>0.408542</td>\n",
       "      <td>-0.009431</td>\n",
       "      <td>0.798278</td>\n",
       "      <td>-0.137458</td>\n",
       "      <td>0.141267</td>\n",
       "      <td>-0.206010</td>\n",
       "      <td>0.502292</td>\n",
       "      <td>0.219422</td>\n",
       "      <td>0.215153</td>\n",
       "      <td>69.99</td>\n",
       "      <td>0</td>\n",
       "    </tr>\n",
       "    <tr>\n",
       "      <th>5</th>\n",
       "      <td>2.0</td>\n",
       "      <td>-0.425966</td>\n",
       "      <td>0.960523</td>\n",
       "      <td>1.141109</td>\n",
       "      <td>-0.168252</td>\n",
       "      <td>0.420987</td>\n",
       "      <td>-0.029728</td>\n",
       "      <td>0.476201</td>\n",
       "      <td>0.260314</td>\n",
       "      <td>-0.568671</td>\n",
       "      <td>-0.371407</td>\n",
       "      <td>1.341262</td>\n",
       "      <td>0.359894</td>\n",
       "      <td>-0.358091</td>\n",
       "      <td>-0.137134</td>\n",
       "      <td>0.517617</td>\n",
       "      <td>0.401726</td>\n",
       "      <td>-0.058133</td>\n",
       "      <td>0.068653</td>\n",
       "      <td>-0.033194</td>\n",
       "      <td>0.084968</td>\n",
       "      <td>-0.208254</td>\n",
       "      <td>-0.559825</td>\n",
       "      <td>-0.026398</td>\n",
       "      <td>-0.371427</td>\n",
       "      <td>-0.232794</td>\n",
       "      <td>0.105915</td>\n",
       "      <td>0.253844</td>\n",
       "      <td>0.081080</td>\n",
       "      <td>3.67</td>\n",
       "      <td>0</td>\n",
       "    </tr>\n",
       "    <tr>\n",
       "      <th>6</th>\n",
       "      <td>4.0</td>\n",
       "      <td>1.229658</td>\n",
       "      <td>0.141004</td>\n",
       "      <td>0.045371</td>\n",
       "      <td>1.202613</td>\n",
       "      <td>0.191881</td>\n",
       "      <td>0.272708</td>\n",
       "      <td>-0.005159</td>\n",
       "      <td>0.081213</td>\n",
       "      <td>0.464960</td>\n",
       "      <td>-0.099254</td>\n",
       "      <td>-1.416907</td>\n",
       "      <td>-0.153826</td>\n",
       "      <td>-0.751063</td>\n",
       "      <td>0.167372</td>\n",
       "      <td>0.050144</td>\n",
       "      <td>-0.443587</td>\n",
       "      <td>0.002821</td>\n",
       "      <td>-0.611987</td>\n",
       "      <td>-0.045575</td>\n",
       "      <td>-0.219633</td>\n",
       "      <td>-0.167716</td>\n",
       "      <td>-0.270710</td>\n",
       "      <td>-0.154104</td>\n",
       "      <td>-0.780055</td>\n",
       "      <td>0.750137</td>\n",
       "      <td>-0.257237</td>\n",
       "      <td>0.034507</td>\n",
       "      <td>0.005168</td>\n",
       "      <td>4.99</td>\n",
       "      <td>0</td>\n",
       "    </tr>\n",
       "    <tr>\n",
       "      <th>7</th>\n",
       "      <td>7.0</td>\n",
       "      <td>-0.644269</td>\n",
       "      <td>1.417964</td>\n",
       "      <td>1.074380</td>\n",
       "      <td>-0.492199</td>\n",
       "      <td>0.948934</td>\n",
       "      <td>0.428118</td>\n",
       "      <td>1.120631</td>\n",
       "      <td>-3.807864</td>\n",
       "      <td>0.615375</td>\n",
       "      <td>1.249376</td>\n",
       "      <td>-0.619468</td>\n",
       "      <td>0.291474</td>\n",
       "      <td>1.757964</td>\n",
       "      <td>-1.323865</td>\n",
       "      <td>0.686133</td>\n",
       "      <td>-0.076127</td>\n",
       "      <td>-1.222127</td>\n",
       "      <td>-0.358222</td>\n",
       "      <td>0.324505</td>\n",
       "      <td>-0.156742</td>\n",
       "      <td>1.943465</td>\n",
       "      <td>-1.015455</td>\n",
       "      <td>0.057504</td>\n",
       "      <td>-0.649709</td>\n",
       "      <td>-0.415267</td>\n",
       "      <td>-0.051634</td>\n",
       "      <td>-1.206921</td>\n",
       "      <td>-1.085339</td>\n",
       "      <td>40.80</td>\n",
       "      <td>0</td>\n",
       "    </tr>\n",
       "    <tr>\n",
       "      <th>8</th>\n",
       "      <td>7.0</td>\n",
       "      <td>-0.894286</td>\n",
       "      <td>0.286157</td>\n",
       "      <td>-0.113192</td>\n",
       "      <td>-0.271526</td>\n",
       "      <td>2.669599</td>\n",
       "      <td>3.721818</td>\n",
       "      <td>0.370145</td>\n",
       "      <td>0.851084</td>\n",
       "      <td>-0.392048</td>\n",
       "      <td>-0.410430</td>\n",
       "      <td>-0.705117</td>\n",
       "      <td>-0.110452</td>\n",
       "      <td>-0.286254</td>\n",
       "      <td>0.074355</td>\n",
       "      <td>-0.328783</td>\n",
       "      <td>-0.210077</td>\n",
       "      <td>-0.499768</td>\n",
       "      <td>0.118765</td>\n",
       "      <td>0.570328</td>\n",
       "      <td>0.052736</td>\n",
       "      <td>-0.073425</td>\n",
       "      <td>-0.268092</td>\n",
       "      <td>-0.204233</td>\n",
       "      <td>1.011592</td>\n",
       "      <td>0.373205</td>\n",
       "      <td>-0.384157</td>\n",
       "      <td>0.011747</td>\n",
       "      <td>0.142404</td>\n",
       "      <td>93.20</td>\n",
       "      <td>0</td>\n",
       "    </tr>\n",
       "    <tr>\n",
       "      <th>9</th>\n",
       "      <td>9.0</td>\n",
       "      <td>-0.338262</td>\n",
       "      <td>1.119593</td>\n",
       "      <td>1.044367</td>\n",
       "      <td>-0.222187</td>\n",
       "      <td>0.499361</td>\n",
       "      <td>-0.246761</td>\n",
       "      <td>0.651583</td>\n",
       "      <td>0.069539</td>\n",
       "      <td>-0.736727</td>\n",
       "      <td>-0.366846</td>\n",
       "      <td>1.017614</td>\n",
       "      <td>0.836390</td>\n",
       "      <td>1.006844</td>\n",
       "      <td>-0.443523</td>\n",
       "      <td>0.150219</td>\n",
       "      <td>0.739453</td>\n",
       "      <td>-0.540980</td>\n",
       "      <td>0.476677</td>\n",
       "      <td>0.451773</td>\n",
       "      <td>0.203711</td>\n",
       "      <td>-0.246914</td>\n",
       "      <td>-0.633753</td>\n",
       "      <td>-0.120794</td>\n",
       "      <td>-0.385050</td>\n",
       "      <td>-0.069733</td>\n",
       "      <td>0.094199</td>\n",
       "      <td>0.246219</td>\n",
       "      <td>0.083076</td>\n",
       "      <td>3.68</td>\n",
       "      <td>0</td>\n",
       "    </tr>\n",
       "  </tbody>\n",
       "</table>\n",
       "</div>"
      ],
      "text/plain": [
       "   Time        V1        V2        V3  ...       V27       V28  Amount  Class\n",
       "0   0.0 -1.359807 -0.072781  2.536347  ...  0.133558 -0.021053  149.62      0\n",
       "1   0.0  1.191857  0.266151  0.166480  ... -0.008983  0.014724    2.69      0\n",
       "2   1.0 -1.358354 -1.340163  1.773209  ... -0.055353 -0.059752  378.66      0\n",
       "3   1.0 -0.966272 -0.185226  1.792993  ...  0.062723  0.061458  123.50      0\n",
       "4   2.0 -1.158233  0.877737  1.548718  ...  0.219422  0.215153   69.99      0\n",
       "5   2.0 -0.425966  0.960523  1.141109  ...  0.253844  0.081080    3.67      0\n",
       "6   4.0  1.229658  0.141004  0.045371  ...  0.034507  0.005168    4.99      0\n",
       "7   7.0 -0.644269  1.417964  1.074380  ... -1.206921 -1.085339   40.80      0\n",
       "8   7.0 -0.894286  0.286157 -0.113192  ...  0.011747  0.142404   93.20      0\n",
       "9   9.0 -0.338262  1.119593  1.044367  ...  0.246219  0.083076    3.68      0\n",
       "\n",
       "[10 rows x 31 columns]"
      ]
     },
     "execution_count": 4,
     "metadata": {},
     "output_type": "execute_result"
    }
   ],
   "source": [
    "df.head(10)"
   ]
  },
  {
   "cell_type": "markdown",
   "metadata": {
    "id": "bmrnJ1IdjTrF"
   },
   "source": [
    "### Devemos lembrar que:\n",
    "*   As informações são mascaradas por um PCA por causa da confidencialidade, já que são dados reais.\n",
    "*   Os dados são desbalanceados\n",
    "*   A acurácia do modelo é afetada pelo desbalanceamento do banco de dados, então para se medir a eficácia do modelo deve se levar em consideração os valores de Precisão e Recall\n",
    "\n"
   ]
  },
  {
   "cell_type": "markdown",
   "metadata": {
    "id": "FsP5psL_iyl2"
   },
   "source": [
    "## Pré-processamento"
   ]
  },
  {
   "cell_type": "markdown",
   "metadata": {
    "id": "lstKNyea4ty4"
   },
   "source": [
    "### Fazer o balanceamento dos dados"
   ]
  },
  {
   "cell_type": "code",
   "execution_count": null,
   "metadata": {
    "colab": {
     "base_uri": "https://localhost:8080/"
    },
    "id": "lLGPlziOoQ4E",
    "outputId": "64b0fffc-b197-4ad2-8cfe-c7c275fcde82"
   },
   "outputs": [
    {
     "data": {
      "text/plain": [
       "(284807, 30)"
      ]
     },
     "execution_count": 5,
     "metadata": {},
     "output_type": "execute_result"
    }
   ],
   "source": [
    "x_df = df.iloc[:,:30].values\n",
    "x_df.shape"
   ]
  },
  {
   "cell_type": "code",
   "execution_count": null,
   "metadata": {
    "colab": {
     "base_uri": "https://localhost:8080/"
    },
    "id": "cWVy8eZQoQ0p",
    "outputId": "92ace982-3273-4820-acea-48922caa3f98"
   },
   "outputs": [
    {
     "data": {
      "text/plain": [
       "(284807, 1)"
      ]
     },
     "execution_count": 6,
     "metadata": {},
     "output_type": "execute_result"
    }
   ],
   "source": [
    "y_df = df.iloc[:,30:].values\n",
    "y_df.shape"
   ]
  },
  {
   "cell_type": "code",
   "execution_count": null,
   "metadata": {
    "colab": {
     "base_uri": "https://localhost:8080/"
    },
    "id": "ZLLI1iew6Vmp",
    "outputId": "ad5c2b46-91f6-4a71-93b2-ddb51b564025"
   },
   "outputs": [
    {
     "name": "stderr",
     "output_type": "stream",
     "text": [
      "/usr/local/lib/python3.7/dist-packages/sklearn/externals/six.py:31: FutureWarning: The module is deprecated in version 0.21 and will be removed in version 0.23 since we've dropped support for Python 2.7. Please rely on the official version of six (https://pypi.org/project/six/).\n",
      "  \"(https://pypi.org/project/six/).\", FutureWarning)\n",
      "/usr/local/lib/python3.7/dist-packages/sklearn/utils/deprecation.py:144: FutureWarning: The sklearn.neighbors.base module is  deprecated in version 0.22 and will be removed in version 0.24. The corresponding classes / functions should instead be imported from sklearn.neighbors. Anything that cannot be imported from sklearn.neighbors is now part of the private API.\n",
      "  warnings.warn(message, FutureWarning)\n"
     ]
    }
   ],
   "source": [
    "from imblearn.under_sampling import TomekLinks"
   ]
  },
  {
   "cell_type": "code",
   "execution_count": null,
   "metadata": {
    "colab": {
     "base_uri": "https://localhost:8080/"
    },
    "id": "z3DND6dT6VfX",
    "outputId": "a966a062-3b92-4eb7-c99e-526aad6171fd"
   },
   "outputs": [
    {
     "name": "stderr",
     "output_type": "stream",
     "text": [
      "/usr/local/lib/python3.7/dist-packages/sklearn/utils/validation.py:760: DataConversionWarning: A column-vector y was passed when a 1d array was expected. Please change the shape of y to (n_samples, ), for example using ravel().\n",
      "  y = column_or_1d(y, warn=True)\n",
      "/usr/local/lib/python3.7/dist-packages/sklearn/utils/deprecation.py:87: FutureWarning: Function safe_indexing is deprecated; safe_indexing is deprecated in version 0.22 and will be removed in version 0.24.\n",
      "  warnings.warn(msg, category=FutureWarning)\n"
     ]
    }
   ],
   "source": [
    "tl = TomekLinks(sampling_strategy= 'all')\n",
    "X_balace, y_balance = tl.fit_resample(x_df, y_df)"
   ]
  },
  {
   "cell_type": "markdown",
   "metadata": {
    "id": "XuXHfLbhpcHA"
   },
   "source": [
    "### Escalonamento dos valores"
   ]
  },
  {
   "cell_type": "code",
   "execution_count": null,
   "metadata": {
    "id": "dudztHrUpgeh"
   },
   "outputs": [],
   "source": [
    "from sklearn.preprocessing import StandardScaler\n",
    "scaler_credit = StandardScaler()\n",
    "x_df = scaler_credit.fit_transform(X_balace)"
   ]
  },
  {
   "cell_type": "code",
   "execution_count": null,
   "metadata": {
    "colab": {
     "base_uri": "https://localhost:8080/"
    },
    "id": "6fpZ3hhapgao",
    "outputId": "b18d303f-6090-4c1d-f61e-1942ea17d4bc"
   },
   "outputs": [
    {
     "data": {
      "text/plain": [
       "array([[-1.99668628, -0.69465776, -0.04413077, ...,  0.33117589,\n",
       "        -0.06383124,  0.24571166],\n",
       "       [-1.99668628,  0.60840292,  0.16117295, ..., -0.02209222,\n",
       "         0.04456468, -0.34217571],\n",
       "       [-1.99666523, -0.69391572, -0.81183141, ..., -0.1370127 ,\n",
       "        -0.18107875,  1.16213256],\n",
       "       ...,\n",
       "       [ 1.6419094 ,  0.98002216, -0.18252522, ...,  0.01121157,\n",
       "        -0.0805184 , -0.08134145],\n",
       "       [ 1.6419094 , -0.12302956,  0.32128861, ...,  0.26986728,\n",
       "         0.31666212, -0.31292738],\n",
       "       [ 1.64199363, -0.27264208, -0.11497308, ..., -0.00581492,\n",
       "         0.04130693,  0.51530841]])"
      ]
     },
     "execution_count": 18,
     "metadata": {},
     "output_type": "execute_result"
    }
   ],
   "source": [
    "x_df"
   ]
  },
  {
   "cell_type": "code",
   "execution_count": null,
   "metadata": {
    "colab": {
     "base_uri": "https://localhost:8080/"
    },
    "id": "5HDVLm3q2Nka",
    "outputId": "f7e899a4-3e80-4477-bac1-904cba728e38"
   },
   "outputs": [
    {
     "data": {
      "text/plain": [
       "((284665, 30), (284665,))"
      ]
     },
     "execution_count": 20,
     "metadata": {},
     "output_type": "execute_result"
    }
   ],
   "source": [
    "x_df.shape, y_df.shape"
   ]
  },
  {
   "cell_type": "markdown",
   "metadata": {
    "id": "coGJ5cqEyhNp"
   },
   "source": [
    "### Fazer separação entre treinamento e teste"
   ]
  },
  {
   "cell_type": "code",
   "execution_count": null,
   "metadata": {
    "id": "GC_OzIU2yvB9"
   },
   "outputs": [],
   "source": [
    "from sklearn.model_selection import train_test_split"
   ]
  },
  {
   "cell_type": "code",
   "execution_count": null,
   "metadata": {
    "id": "-MHxzkYEy3tH"
   },
   "outputs": [],
   "source": [
    "X_treino, X_teste, y_treino, y_teste = train_test_split(x_df, y_df, test_size = 0.30)"
   ]
  },
  {
   "cell_type": "code",
   "execution_count": null,
   "metadata": {
    "colab": {
     "base_uri": "https://localhost:8080/"
    },
    "id": "TgBTTqACy3ek",
    "outputId": "5ea6cd70-ded8-493e-a064-cfa499bac538"
   },
   "outputs": [
    {
     "data": {
      "text/plain": [
       "(85400, 30)"
      ]
     },
     "execution_count": 27,
     "metadata": {},
     "output_type": "execute_result"
    }
   ],
   "source": [
    "X_teste.shape"
   ]
  },
  {
   "cell_type": "code",
   "execution_count": null,
   "metadata": {
    "colab": {
     "base_uri": "https://localhost:8080/"
    },
    "id": "pzp9htsWy3Zq",
    "outputId": "48933d53-aaea-4be6-9960-ddf46e712631"
   },
   "outputs": [
    {
     "data": {
      "text/plain": [
       "(199265,)"
      ]
     },
     "execution_count": 28,
     "metadata": {},
     "output_type": "execute_result"
    }
   ],
   "source": [
    "y_treino.shape"
   ]
  },
  {
   "cell_type": "markdown",
   "metadata": {
    "id": "YnsbhkQSiyen"
   },
   "source": [
    "## Processamento: Aplicação dos algoritmos"
   ]
  },
  {
   "cell_type": "markdown",
   "metadata": {
    "id": "Zq1Nm689rSnv"
   },
   "source": [
    "### Regressão Logística"
   ]
  },
  {
   "cell_type": "code",
   "execution_count": null,
   "metadata": {
    "id": "0XUaF1bOrSEz"
   },
   "outputs": [],
   "source": [
    "from sklearn.linear_model import LogisticRegression"
   ]
  },
  {
   "cell_type": "code",
   "execution_count": null,
   "metadata": {
    "id": "xAfrpbeEr-mk"
   },
   "outputs": [],
   "source": [
    "logistic = LogisticRegression(max_iter=300)"
   ]
  },
  {
   "cell_type": "code",
   "execution_count": null,
   "metadata": {
    "colab": {
     "base_uri": "https://localhost:8080/"
    },
    "id": "TbUPRaDlr-Zb",
    "outputId": "de2a8e5a-d433-4290-9290-c06a2c2662ca"
   },
   "outputs": [
    {
     "data": {
      "text/plain": [
       "LogisticRegression(C=1.0, class_weight=None, dual=False, fit_intercept=True,\n",
       "                   intercept_scaling=1, l1_ratio=None, max_iter=300,\n",
       "                   multi_class='auto', n_jobs=None, penalty='l2',\n",
       "                   random_state=None, solver='lbfgs', tol=0.0001, verbose=0,\n",
       "                   warm_start=False)"
      ]
     },
     "execution_count": 31,
     "metadata": {},
     "output_type": "execute_result"
    }
   ],
   "source": [
    "logistic.fit(X_treino, y_treino)"
   ]
  },
  {
   "cell_type": "code",
   "execution_count": null,
   "metadata": {
    "colab": {
     "base_uri": "https://localhost:8080/"
    },
    "id": "9lZI2lN7xqDK",
    "outputId": "88f537f6-6fde-41d8-af86-8d20e4e61958"
   },
   "outputs": [
    {
     "data": {
      "text/plain": [
       "array([-9.09642655])"
      ]
     },
     "execution_count": 32,
     "metadata": {},
     "output_type": "execute_result"
    }
   ],
   "source": [
    "logistic.intercept_"
   ]
  },
  {
   "cell_type": "code",
   "execution_count": null,
   "metadata": {
    "colab": {
     "base_uri": "https://localhost:8080/"
    },
    "id": "MvBy4anSxpxj",
    "outputId": "5f7a79b1-aa9d-4e83-8868-03b4e9b6104f"
   },
   "outputs": [
    {
     "data": {
      "text/plain": [
       "array([[-0.08535819,  0.08330463,  0.02717595, -0.01456736,  0.95040672,\n",
       "         0.24788331, -0.1344315 , -0.10172859, -0.20578346, -0.31132575,\n",
       "        -0.90863328, -0.04756982,  0.13190336, -0.41829172, -0.5521647 ,\n",
       "        -0.19823607, -0.26211642,  0.04895128,  0.0128676 ,  0.09978108,\n",
       "        -0.32992201,  0.285287  ,  0.43466152, -0.08927941,  0.12974345,\n",
       "        -0.02755911, -0.04392474, -0.31785072, -0.08129125,  0.18497057]])"
      ]
     },
     "execution_count": 33,
     "metadata": {},
     "output_type": "execute_result"
    }
   ],
   "source": [
    "logistic.coef_"
   ]
  },
  {
   "cell_type": "code",
   "execution_count": null,
   "metadata": {
    "colab": {
     "base_uri": "https://localhost:8080/"
    },
    "id": "buSWYaa5x7TW",
    "outputId": "701a86c2-3d47-4cc8-8770-2f5730f518b5"
   },
   "outputs": [
    {
     "data": {
      "text/plain": [
       "array([0, 0, 0, ..., 0, 0, 0])"
      ]
     },
     "execution_count": 34,
     "metadata": {},
     "output_type": "execute_result"
    }
   ],
   "source": [
    "previsoes = logistic.predict(X_teste)\n",
    "previsoes"
   ]
  },
  {
   "cell_type": "code",
   "execution_count": null,
   "metadata": {
    "colab": {
     "base_uri": "https://localhost:8080/"
    },
    "id": "7K5vbqnvx7Hl",
    "outputId": "1cf2b41b-d21e-4c2d-d846-13c39b9b74c6"
   },
   "outputs": [
    {
     "data": {
      "text/plain": [
       "array([0, 0, 0, ..., 0, 0, 0])"
      ]
     },
     "execution_count": 35,
     "metadata": {},
     "output_type": "execute_result"
    }
   ],
   "source": [
    "y_teste"
   ]
  },
  {
   "cell_type": "markdown",
   "metadata": {
    "id": "6znaCkO1jCcY"
   },
   "source": [
    "####Avaliação dos Modelos"
   ]
  },
  {
   "cell_type": "code",
   "execution_count": null,
   "metadata": {
    "colab": {
     "base_uri": "https://localhost:8080/"
    },
    "id": "6XkIfwD30a0y",
    "outputId": "51f8bc99-53d6-4b84-e41a-ca8982f0a99c"
   },
   "outputs": [
    {
     "data": {
      "text/plain": [
       "0.9993793911007026"
      ]
     },
     "execution_count": 36,
     "metadata": {},
     "output_type": "execute_result"
    }
   ],
   "source": [
    "from sklearn.metrics import accuracy_score, classification_report\n",
    "accuracy_score(y_teste, previsoes)"
   ]
  },
  {
   "cell_type": "code",
   "execution_count": null,
   "metadata": {
    "colab": {
     "base_uri": "https://localhost:8080/",
     "height": 417
    },
    "id": "Y2tDoJQn0lQm",
    "outputId": "99ad2486-b61a-4214-d06c-fd4ff96eb763"
   },
   "outputs": [
    {
     "name": "stderr",
     "output_type": "stream",
     "text": [
      "/usr/local/lib/python3.7/dist-packages/sklearn/utils/deprecation.py:144: FutureWarning: The sklearn.metrics.classification module is  deprecated in version 0.22 and will be removed in version 0.24. The corresponding classes / functions should instead be imported from sklearn.metrics. Anything that cannot be imported from sklearn.metrics is now part of the private API.\n",
      "  warnings.warn(message, FutureWarning)\n"
     ]
    },
    {
     "data": {
      "text/plain": [
       "0.9993793911007026"
      ]
     },
     "execution_count": 37,
     "metadata": {},
     "output_type": "execute_result"
    },
    {
     "data": {
      "image/png": "[encoded data removed]",
      "text/plain": [
       "<Figure size 576x396 with 1 Axes>"
      ]
     },
     "metadata": {},
     "output_type": "display_data"
    }
   ],
   "source": [
    "from yellowbrick.classifier import ConfusionMatrix\n",
    "cm = ConfusionMatrix(logistic)\n",
    "cm.fit(X_treino, y_treino)\n",
    "cm.score(X_teste, y_teste)"
   ]
  },
  {
   "cell_type": "code",
   "execution_count": null,
   "metadata": {
    "colab": {
     "base_uri": "https://localhost:8080/"
    },
    "id": "Tx6V9GOq0_8N",
    "outputId": "6b42015a-defd-4881-8697-77def24eadfc"
   },
   "outputs": [
    {
     "name": "stdout",
     "output_type": "stream",
     "text": [
      "              precision    recall  f1-score   support\n",
      "\n",
      "           0       1.00      1.00      1.00     85271\n",
      "           1       0.87      0.69      0.77       129\n",
      "\n",
      "    accuracy                           1.00     85400\n",
      "   macro avg       0.94      0.84      0.89     85400\n",
      "weighted avg       1.00      1.00      1.00     85400\n",
      "\n"
     ]
    }
   ],
   "source": [
    "print(classification_report(y_teste, previsoes))"
   ]
  },
  {
   "cell_type": "markdown",
   "metadata": {
    "id": "e7faBTY_7afT"
   },
   "source": [
    "### SVM"
   ]
  },
  {
   "cell_type": "code",
   "execution_count": null,
   "metadata": {
    "id": "yegQ5u1m7c7P"
   },
   "outputs": [],
   "source": [
    "from sklearn.svm import SVC"
   ]
  },
  {
   "cell_type": "code",
   "execution_count": null,
   "metadata": {
    "id": "WmlENL8U9e5c"
   },
   "outputs": [],
   "source": [
    "svm = SVC(kernel = 'linear')"
   ]
  },
  {
   "cell_type": "code",
   "execution_count": null,
   "metadata": {
    "colab": {
     "base_uri": "https://localhost:8080/"
    },
    "id": "6B73R99B9uLY",
    "outputId": "812bf257-2b1d-4122-8f96-b65bde124f67"
   },
   "outputs": [
    {
     "data": {
      "text/plain": [
       "SVC(C=1.0, break_ties=False, cache_size=200, class_weight=None, coef0=0.0,\n",
       "    decision_function_shape='ovr', degree=3, gamma='scale', kernel='linear',\n",
       "    max_iter=-1, probability=False, random_state=None, shrinking=True,\n",
       "    tol=0.001, verbose=False)"
      ]
     },
     "execution_count": 41,
     "metadata": {},
     "output_type": "execute_result"
    }
   ],
   "source": [
    "svm.fit(X_treino, y_treino)"
   ]
  },
  {
   "cell_type": "code",
   "execution_count": null,
   "metadata": {
    "colab": {
     "base_uri": "https://localhost:8080/"
    },
    "id": "NamzcO8i9_HM",
    "outputId": "34f2e1e0-6b02-4f12-f1d7-3ec80926c5f5"
   },
   "outputs": [
    {
     "data": {
      "text/plain": [
       "array([0, 0, 0, ..., 0, 0, 0])"
      ]
     },
     "execution_count": 42,
     "metadata": {},
     "output_type": "execute_result"
    }
   ],
   "source": [
    "previsoes = svm.predict(X_teste)\n",
    "previsoes"
   ]
  },
  {
   "cell_type": "code",
   "execution_count": null,
   "metadata": {
    "colab": {
     "base_uri": "https://localhost:8080/"
    },
    "id": "omz_0wGGCNW2",
    "outputId": "fae8b3b3-52f2-49e3-fca4-c2ffcf4db7d7"
   },
   "outputs": [
    {
     "data": {
      "text/plain": [
       "0.999519906323185"
      ]
     },
     "execution_count": 43,
     "metadata": {},
     "output_type": "execute_result"
    }
   ],
   "source": [
    "from sklearn.metrics import accuracy_score, classification_report\n",
    "accuracy_score(y_teste, previsoes)"
   ]
  },
  {
   "cell_type": "code",
   "execution_count": null,
   "metadata": {
    "colab": {
     "base_uri": "https://localhost:8080/",
     "height": 362
    },
    "id": "YzlW4FZICWDf",
    "outputId": "c1ed56ba-3737-4a23-d03a-4c4b5d58a1d5"
   },
   "outputs": [
    {
     "data": {
      "text/plain": [
       "0.999519906323185"
      ]
     },
     "execution_count": 44,
     "metadata": {},
     "output_type": "execute_result"
    },
    {
     "data": {
      "image/png": "[encoded data removed]",
      "text/plain": [
       "<Figure size 576x396 with 1 Axes>"
      ]
     },
     "metadata": {},
     "output_type": "display_data"
    }
   ],
   "source": [
    "from yellowbrick.classifier import ConfusionMatrix\n",
    "cm = ConfusionMatrix(svm)\n",
    "cm.fit(X_treino, y_treino)\n",
    "cm.score(X_teste, y_teste)"
   ]
  },
  {
   "cell_type": "code",
   "execution_count": null,
   "metadata": {
    "colab": {
     "base_uri": "https://localhost:8080/"
    },
    "id": "F9fU7W-OCYhH",
    "outputId": "12d33996-5d6a-42bb-fdda-16a78259f792"
   },
   "outputs": [
    {
     "name": "stdout",
     "output_type": "stream",
     "text": [
      "              precision    recall  f1-score   support\n",
      "\n",
      "           0       1.00      1.00      1.00     85271\n",
      "           1       0.83      0.85      0.84       129\n",
      "\n",
      "    accuracy                           1.00     85400\n",
      "   macro avg       0.92      0.93      0.92     85400\n",
      "weighted avg       1.00      1.00      1.00     85400\n",
      "\n"
     ]
    }
   ],
   "source": [
    "print(classification_report(y_teste, previsoes))"
   ]
  },
  {
   "cell_type": "markdown",
   "metadata": {
    "id": "Ki1mbAXt7Ot3"
   },
   "source": [
    "### Redes Neurais Artificiais - RNA"
   ]
  },
  {
   "cell_type": "code",
   "execution_count": null,
   "metadata": {
    "id": "spcDT37BAQoL"
   },
   "outputs": [],
   "source": [
    "from sklearn.neural_network import MLPClassifier"
   ]
  },
  {
   "cell_type": "code",
   "execution_count": null,
   "metadata": {
    "colab": {
     "base_uri": "https://localhost:8080/"
    },
    "id": "fYTk662tBZgW",
    "outputId": "28fc0d6f-ec29-41a0-b5e0-252658c4551c"
   },
   "outputs": [
    {
     "data": {
      "text/plain": [
       "((199265, 30), (199265,))"
      ]
     },
     "execution_count": 47,
     "metadata": {},
     "output_type": "execute_result"
    }
   ],
   "source": [
    "X_treino.shape, y_treino.shape"
   ]
  },
  {
   "cell_type": "code",
   "execution_count": null,
   "metadata": {
    "colab": {
     "base_uri": "https://localhost:8080/"
    },
    "id": "VtSbUycaBlxe",
    "outputId": "7fed2623-ab80-425c-ef24-4e27d4c78c12"
   },
   "outputs": [
    {
     "data": {
      "text/plain": [
       "15.5"
      ]
     },
     "execution_count": 48,
     "metadata": {},
     "output_type": "execute_result"
    }
   ],
   "source": [
    "(30+1)/2"
   ]
  },
  {
   "cell_type": "code",
   "execution_count": null,
   "metadata": {
    "colab": {
     "base_uri": "https://localhost:8080/"
    },
    "id": "ZGtvWtqy7Y5V",
    "outputId": "6a6725d4-59f1-4f8a-846f-bc4caa7ce59f"
   },
   "outputs": [
    {
     "name": "stdout",
     "output_type": "stream",
     "text": [
      "Iteration 1, loss = 0.07756484\n",
      "Iteration 2, loss = 0.00407999\n",
      "Iteration 3, loss = 0.00329021\n",
      "Iteration 4, loss = 0.00290181\n",
      "Iteration 5, loss = 0.00265447\n",
      "Iteration 6, loss = 0.00244040\n",
      "Iteration 7, loss = 0.00222291\n",
      "Iteration 8, loss = 0.00210341\n",
      "Iteration 9, loss = 0.00194128\n",
      "Iteration 10, loss = 0.00187318\n",
      "Iteration 11, loss = 0.00176324\n",
      "Iteration 12, loss = 0.00172941\n",
      "Iteration 13, loss = 0.00167789\n",
      "Iteration 14, loss = 0.00168673\n",
      "Iteration 15, loss = 0.00162950\n",
      "Iteration 16, loss = 0.00158549\n",
      "Iteration 17, loss = 0.00153535\n",
      "Iteration 18, loss = 0.00152665\n",
      "Iteration 19, loss = 0.00147537\n",
      "Iteration 20, loss = 0.00143993\n",
      "Iteration 21, loss = 0.00147129\n",
      "Iteration 22, loss = 0.00131061\n",
      "Iteration 23, loss = 0.00128479\n",
      "Iteration 24, loss = 0.00122986\n",
      "Iteration 25, loss = 0.00124538\n",
      "Iteration 26, loss = 0.00118892\n",
      "Iteration 27, loss = 0.00114766\n",
      "Iteration 28, loss = 0.00113498\n",
      "Iteration 29, loss = 0.00112572\n",
      "Iteration 30, loss = 0.00112078\n",
      "Iteration 31, loss = 0.00104843\n",
      "Iteration 32, loss = 0.00105016\n",
      "Iteration 33, loss = 0.00107371\n",
      "Iteration 34, loss = 0.00102642\n",
      "Iteration 35, loss = 0.00099271\n",
      "Iteration 36, loss = 0.00096156\n",
      "Iteration 37, loss = 0.00094477\n",
      "Iteration 38, loss = 0.00097639\n",
      "Iteration 39, loss = 0.00091060\n",
      "Iteration 40, loss = 0.00089040\n",
      "Iteration 41, loss = 0.00092485\n",
      "Iteration 42, loss = 0.00091500\n",
      "Iteration 43, loss = 0.00089684\n",
      "Iteration 44, loss = 0.00082576\n",
      "Iteration 45, loss = 0.00084538\n",
      "Iteration 46, loss = 0.00086898\n",
      "Iteration 47, loss = 0.00079552\n",
      "Iteration 48, loss = 0.00080362\n",
      "Iteration 49, loss = 0.00078919\n",
      "Iteration 50, loss = 0.00078048\n",
      "Iteration 51, loss = 0.00073237\n",
      "Iteration 52, loss = 0.00074800\n",
      "Iteration 53, loss = 0.00074718\n",
      "Iteration 54, loss = 0.00071915\n",
      "Iteration 55, loss = 0.00068198\n",
      "Iteration 56, loss = 0.00070735\n",
      "Iteration 57, loss = 0.00074675\n",
      "Iteration 58, loss = 0.00071717\n",
      "Iteration 59, loss = 0.00067248\n",
      "Iteration 60, loss = 0.00067740\n",
      "Iteration 61, loss = 0.00064523\n",
      "Iteration 62, loss = 0.00064349\n",
      "Iteration 63, loss = 0.00067868\n",
      "Iteration 64, loss = 0.00064494\n",
      "Iteration 65, loss = 0.00063536\n",
      "Iteration 66, loss = 0.00062873\n",
      "Iteration 67, loss = 0.00065409\n",
      "Iteration 68, loss = 0.00059354\n",
      "Iteration 69, loss = 0.00063534\n",
      "Iteration 70, loss = 0.00059131\n",
      "Iteration 71, loss = 0.00057226\n",
      "Iteration 72, loss = 0.00060044\n",
      "Iteration 73, loss = 0.00055517\n",
      "Iteration 74, loss = 0.00058865\n",
      "Iteration 75, loss = 0.00058146\n",
      "Iteration 76, loss = 0.00057244\n",
      "Iteration 77, loss = 0.00056343\n",
      "Iteration 78, loss = 0.00060997\n",
      "Iteration 79, loss = 0.00053542\n",
      "Iteration 80, loss = 0.00054715\n",
      "Iteration 81, loss = 0.00051948\n",
      "Iteration 82, loss = 0.00064485\n",
      "Iteration 83, loss = 0.00053236\n",
      "Iteration 84, loss = 0.00053004\n",
      "Iteration 85, loss = 0.00054055\n",
      "Iteration 86, loss = 0.00055561\n",
      "Iteration 87, loss = 0.00049972\n",
      "Iteration 88, loss = 0.00056793\n",
      "Iteration 89, loss = 0.00051298\n",
      "Iteration 90, loss = 0.00048466\n",
      "Iteration 91, loss = 0.00050507\n",
      "Iteration 92, loss = 0.00051751\n",
      "Iteration 93, loss = 0.00053245\n",
      "Iteration 94, loss = 0.00051797\n",
      "Iteration 95, loss = 0.00052048\n",
      "Iteration 96, loss = 0.00048763\n",
      "Iteration 97, loss = 0.00048361\n",
      "Iteration 98, loss = 0.00051693\n",
      "Iteration 99, loss = 0.00047716\n",
      "Iteration 100, loss = 0.00048798\n",
      "Iteration 101, loss = 0.00049733\n",
      "Training loss did not improve more than tol=0.000010 for 10 consecutive epochs. Stopping.\n"
     ]
    },
    {
     "data": {
      "text/plain": [
       "MLPClassifier(activation='relu', alpha=0.0001, batch_size='auto', beta_1=0.9,\n",
       "              beta_2=0.999, early_stopping=False, epsilon=1e-08,\n",
       "              hidden_layer_sizes=(16, 16), learning_rate='constant',\n",
       "              learning_rate_init=0.001, max_fun=15000, max_iter=1000,\n",
       "              momentum=0.9, n_iter_no_change=10, nesterovs_momentum=True,\n",
       "              power_t=0.5, random_state=None, shuffle=True, solver='adam',\n",
       "              tol=1e-05, validation_fraction=0.1, verbose=True,\n",
       "              warm_start=False)"
      ]
     },
     "execution_count": 49,
     "metadata": {},
     "output_type": "execute_result"
    }
   ],
   "source": [
    "#30 neurônios na camada entrada\n",
    "#16 neurônios na camada oculta\n",
    "#16 neurônios na camada oculta\n",
    "# 1 #16 neurônios na camada de saída\n",
    "\n",
    "rede_neural = MLPClassifier(verbose=True, max_iter=1000, tol=0.000010, hidden_layer_sizes=(16, 16))\n",
    "rede_neural.fit(X_treino, y_treino)"
   ]
  },
  {
   "cell_type": "code",
   "execution_count": null,
   "metadata": {
    "colab": {
     "base_uri": "https://localhost:8080/"
    },
    "id": "lcFBKRKOC5fv",
    "outputId": "e8682ce5-9027-40b6-85ed-6d3b34d42d22"
   },
   "outputs": [
    {
     "data": {
      "text/plain": [
       "array([0, 0, 0, ..., 0, 0, 0])"
      ]
     },
     "execution_count": 50,
     "metadata": {},
     "output_type": "execute_result"
    }
   ],
   "source": [
    "previsoes = rede_neural.predict(X_teste)\n",
    "previsoes"
   ]
  },
  {
   "cell_type": "code",
   "execution_count": null,
   "metadata": {
    "colab": {
     "base_uri": "https://localhost:8080/"
    },
    "id": "i8FWGma0Dexl",
    "outputId": "379909fc-f189-4bec-da58-76146f52a3f7"
   },
   "outputs": [
    {
     "data": {
      "text/plain": [
       "0.9994496487119438"
      ]
     },
     "execution_count": 51,
     "metadata": {},
     "output_type": "execute_result"
    }
   ],
   "source": [
    "from sklearn.metrics import accuracy_score, classification_report\n",
    "accuracy_score(y_teste, previsoes)"
   ]
  },
  {
   "cell_type": "code",
   "execution_count": null,
   "metadata": {
    "colab": {
     "base_uri": "https://localhost:8080/",
     "height": 1000
    },
    "id": "UvY3AKOmDnYS",
    "outputId": "1d532d34-2e2e-4a8a-9eaf-4c821b7770be"
   },
   "outputs": [
    {
     "name": "stdout",
     "output_type": "stream",
     "text": [
      "Iteration 1, loss = 0.08142538\n",
      "Iteration 2, loss = 0.00341504\n",
      "Iteration 3, loss = 0.00266302\n",
      "Iteration 4, loss = 0.00238753\n",
      "Iteration 5, loss = 0.00217272\n",
      "Iteration 6, loss = 0.00200682\n",
      "Iteration 7, loss = 0.00189387\n",
      "Iteration 8, loss = 0.00179825\n",
      "Iteration 9, loss = 0.00172163\n",
      "Iteration 10, loss = 0.00164530\n",
      "Iteration 11, loss = 0.00158412\n",
      "Iteration 12, loss = 0.00152423\n",
      "Iteration 13, loss = 0.00148265\n",
      "Iteration 14, loss = 0.00144157\n",
      "Iteration 15, loss = 0.00135127\n",
      "Iteration 16, loss = 0.00134217\n",
      "Iteration 17, loss = 0.00131509\n",
      "Iteration 18, loss = 0.00127527\n",
      "Iteration 19, loss = 0.00122351\n",
      "Iteration 20, loss = 0.00116811\n",
      "Iteration 21, loss = 0.00117722\n",
      "Iteration 22, loss = 0.00116983\n",
      "Iteration 23, loss = 0.00109197\n",
      "Iteration 24, loss = 0.00115790\n",
      "Iteration 25, loss = 0.00105277\n",
      "Iteration 26, loss = 0.00105104\n",
      "Iteration 27, loss = 0.00100205\n",
      "Iteration 28, loss = 0.00104481\n",
      "Iteration 29, loss = 0.00095666\n",
      "Iteration 30, loss = 0.00091561\n",
      "Iteration 31, loss = 0.00094982\n",
      "Iteration 32, loss = 0.00090553\n",
      "Iteration 33, loss = 0.00085693\n",
      "Iteration 34, loss = 0.00087586\n",
      "Iteration 35, loss = 0.00080491\n",
      "Iteration 36, loss = 0.00079775\n",
      "Iteration 37, loss = 0.00070151\n",
      "Iteration 38, loss = 0.00076515\n",
      "Iteration 39, loss = 0.00070959\n",
      "Iteration 40, loss = 0.00075533\n",
      "Iteration 41, loss = 0.00063786\n",
      "Iteration 42, loss = 0.00065687\n",
      "Iteration 43, loss = 0.00066147\n",
      "Iteration 44, loss = 0.00062383\n",
      "Iteration 45, loss = 0.00063989\n",
      "Iteration 46, loss = 0.00058832\n",
      "Iteration 47, loss = 0.00059009\n",
      "Iteration 48, loss = 0.00057423\n",
      "Iteration 49, loss = 0.00055351\n",
      "Iteration 50, loss = 0.00053258\n",
      "Iteration 51, loss = 0.00052108\n",
      "Iteration 52, loss = 0.00055389\n",
      "Iteration 53, loss = 0.00051743\n",
      "Iteration 54, loss = 0.00045698\n",
      "Iteration 55, loss = 0.00050864\n",
      "Iteration 56, loss = 0.00048895\n",
      "Iteration 57, loss = 0.00049757\n",
      "Iteration 58, loss = 0.00045964\n",
      "Iteration 59, loss = 0.00040862\n",
      "Iteration 60, loss = 0.00042934\n",
      "Iteration 61, loss = 0.00051002\n",
      "Iteration 62, loss = 0.00038279\n",
      "Iteration 63, loss = 0.00036336\n",
      "Iteration 64, loss = 0.00041984\n",
      "Iteration 65, loss = 0.00043249\n",
      "Iteration 66, loss = 0.00035964\n",
      "Iteration 67, loss = 0.00044889\n",
      "Iteration 68, loss = 0.00034368\n",
      "Iteration 69, loss = 0.00033325\n",
      "Iteration 70, loss = 0.00044237\n",
      "Iteration 71, loss = 0.00035991\n",
      "Iteration 72, loss = 0.00029448\n",
      "Iteration 73, loss = 0.00043631\n",
      "Iteration 74, loss = 0.00035316\n",
      "Iteration 75, loss = 0.00029254\n",
      "Iteration 76, loss = 0.00031355\n",
      "Iteration 77, loss = 0.00031826\n",
      "Iteration 78, loss = 0.00034815\n",
      "Iteration 79, loss = 0.00030421\n",
      "Iteration 80, loss = 0.00033627\n",
      "Iteration 81, loss = 0.00028067\n",
      "Iteration 82, loss = 0.00026666\n",
      "Iteration 83, loss = 0.00031971\n",
      "Iteration 84, loss = 0.00030785\n",
      "Iteration 85, loss = 0.00045109\n",
      "Iteration 86, loss = 0.00025426\n",
      "Iteration 87, loss = 0.00025607\n",
      "Iteration 88, loss = 0.00030709\n",
      "Iteration 89, loss = 0.00023757\n",
      "Iteration 90, loss = 0.00026233\n",
      "Iteration 91, loss = 0.00039579\n",
      "Iteration 92, loss = 0.00032176\n",
      "Iteration 93, loss = 0.00036848\n",
      "Iteration 94, loss = 0.00026320\n",
      "Iteration 95, loss = 0.00027311\n",
      "Iteration 96, loss = 0.00021766\n",
      "Iteration 97, loss = 0.00027476\n",
      "Iteration 98, loss = 0.00024038\n",
      "Iteration 99, loss = 0.00026177\n",
      "Iteration 100, loss = 0.00021854\n",
      "Iteration 101, loss = 0.00036293\n",
      "Iteration 102, loss = 0.00026236\n",
      "Iteration 103, loss = 0.00027048\n",
      "Iteration 104, loss = 0.00021803\n",
      "Iteration 105, loss = 0.00025115\n",
      "Iteration 106, loss = 0.00027078\n",
      "Iteration 107, loss = 0.00020752\n",
      "Iteration 108, loss = 0.00030716\n",
      "Iteration 109, loss = 0.00019724\n",
      "Iteration 110, loss = 0.00030662\n",
      "Iteration 111, loss = 0.00022378\n",
      "Iteration 112, loss = 0.00022215\n",
      "Iteration 113, loss = 0.00024966\n",
      "Iteration 114, loss = 0.00029435\n",
      "Iteration 115, loss = 0.00033705\n",
      "Iteration 116, loss = 0.00026711\n",
      "Iteration 117, loss = 0.00020771\n",
      "Iteration 118, loss = 0.00018502\n",
      "Iteration 119, loss = 0.00019762\n",
      "Iteration 120, loss = 0.00028493\n",
      "Iteration 121, loss = 0.00019182\n",
      "Iteration 122, loss = 0.00027458\n",
      "Iteration 123, loss = 0.00019089\n",
      "Iteration 124, loss = 0.00015969\n",
      "Iteration 125, loss = 0.00025663\n",
      "Iteration 126, loss = 0.00032800\n",
      "Iteration 127, loss = 0.00021857\n",
      "Iteration 128, loss = 0.00020435\n",
      "Iteration 129, loss = 0.00022000\n",
      "Iteration 130, loss = 0.00022953\n",
      "Iteration 131, loss = 0.00025531\n",
      "Iteration 132, loss = 0.00028493\n",
      "Iteration 133, loss = 0.00019419\n",
      "Iteration 134, loss = 0.00017926\n",
      "Iteration 135, loss = 0.00021557\n",
      "Training loss did not improve more than tol=0.000010 for 10 consecutive epochs. Stopping.\n"
     ]
    },
    {
     "data": {
      "text/plain": [
       "0.9995901639344262"
      ]
     },
     "execution_count": 52,
     "metadata": {},
     "output_type": "execute_result"
    },
    {
     "data": {
      "image/png": "[encoded data removed]",
      "text/plain": [
       "<Figure size 576x396 with 1 Axes>"
      ]
     },
     "metadata": {},
     "output_type": "display_data"
    }
   ],
   "source": [
    "from yellowbrick.classifier import ConfusionMatrix\n",
    "cm = ConfusionMatrix(rede_neural)\n",
    "cm.fit(X_treino, y_treino)\n",
    "cm.score(X_teste, y_teste)"
   ]
  },
  {
   "cell_type": "code",
   "execution_count": null,
   "metadata": {
    "colab": {
     "base_uri": "https://localhost:8080/"
    },
    "id": "_j3vnD9gDuMw",
    "outputId": "fa551e59-c05d-4ddf-ffdd-f1abe6924975"
   },
   "outputs": [
    {
     "name": "stdout",
     "output_type": "stream",
     "text": [
      "              precision    recall  f1-score   support\n",
      "\n",
      "           0       1.00      1.00      1.00     85271\n",
      "           1       0.84      0.79      0.81       129\n",
      "\n",
      "    accuracy                           1.00     85400\n",
      "   macro avg       0.92      0.90      0.91     85400\n",
      "weighted avg       1.00      1.00      1.00     85400\n",
      "\n"
     ]
    }
   ],
   "source": [
    "print(classification_report(y_teste, previsoes))"
   ]
  },
  {
   "cell_type": "code",
   "execution_count": null,
   "metadata": {
    "id": "EWyycUxjEKAs"
   },
   "outputs": [],
   "source": []
  },
  {
   "cell_type": "markdown",
   "metadata": {
    "id": "62nwUFQXIxUa"
   },
   "source": [
    "## Resumo dos Modelos"
   ]
  },
  {
   "cell_type": "markdown",
   "metadata": {
    "id": "GwKm7wJMI6Qj"
   },
   "source": [
    "### Resultado dos modelos"
   ]
  },
  {
   "cell_type": "markdown",
   "metadata": {
    "id": "sLJ2kodrI-rq"
   },
   "source": [
    "Levando em consideração que a acurácia não pode ser utilizada como uma métrica de avaliação devido ao desbalanceamento dos dados, e também que a natureza do problema tem como ponto principal a detecção das transações fraudulentas, deve se considerar o *Recall* como principal métrica de avaliação desse modelo.\n",
    "\n",
    "### **Para os modelos temos os seguintes valores de *recall*:**\n",
    "\n",
    "\n",
    "**Reg. Logística**: \n",
    " - Não fraudulenta: 1.0\n",
    " - Fraudulenta: 0.69\n",
    " \n",
    "**SVM:**\n",
    " - Não fraudulenta: 1.0\n",
    " - Fraudulenta: 0.85\n",
    " \n",
    "**Redes Neurais Artificiais:**\n",
    " - Não fraudulenta: 1.0\n",
    " - Fraudulenta: 0.79\n",
    " \n",
    "O maior **recall** encontrado para o projeto foi o do modelo **SVM**, com o valor de **0.85**.\n",
    "O indicador **f1-score**, que leva em consideração o equlíbrio entre o recall e a precisão também apresentou o melhor resultado de todos com o valor de **0.84**\n",
    "\n",
    "Considerando esses resultados, devemos adotar o *SVM* como o melhor algoritmo para identificar o as transações fraudulentas do projeto."
   ]
  },
  {
   "cell_type": "markdown",
   "metadata": {},
   "source": [
    "### Considerações finais\n",
    "\n",
    "O desafio apresentado nesse projeto é bem comum nos projetos de Data Science modernos. \n",
    "Quando se trabalha com dados reais problemas como desbalanceamento dos dados, camuflagem das informações e também grande volume de informaçãose tornam corriqueiros no dia a dia.\n",
    "É dever do Cientista de Dados saber quais são os mecanismos necessários para resolver o problema "
   ]
  },
  {
   "cell_type": "code",
   "execution_count": null,
   "metadata": {},
   "outputs": [],
   "source": []
  }
 ],
 "metadata": {
  "accelerator": "TPU",
  "colab": {
   "collapsed_sections": [
    "6nODBDd-iqtQ",
    "dOEg1oHNiywZ",
    "coGJ5cqEyhNp",
    "Ki1mbAXt7Ot3"
   ],
   "name": "Projeto - Credit Card Fraud Detection.ipynb",
   "provenance": []
  },
  "kernelspec": {
   "display_name": "Python 3",
   "language": "python",
   "name": "python3"
  },
  "language_info": {
   "codemirror_mode": {
    "name": "ipython",
    "version": 3
   },
   "file_extension": ".py",
   "mimetype": "text/x-python",
   "name": "python",
   "nbconvert_exporter": "python",
   "pygments_lexer": "ipython3",
   "version": "3.8.5"
  }
 },
 "nbformat": 4,
 "nbformat_minor": 1
}
